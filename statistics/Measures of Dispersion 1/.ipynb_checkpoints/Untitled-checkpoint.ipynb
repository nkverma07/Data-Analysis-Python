{
 "cells": [
  {
   "cell_type": "code",
   "execution_count": 1,
   "id": "f5b42654-80f2-4bfb-8ade-9b1d983287e2",
   "metadata": {},
   "outputs": [],
   "source": [
    "import pandas as pd"
   ]
  },
  {
   "cell_type": "code",
   "execution_count": 2,
   "id": "8ef30731-5069-449f-b17a-45945b576a66",
   "metadata": {},
   "outputs": [],
   "source": [
    "import statistics as st"
   ]
  },
  {
   "cell_type": "code",
   "execution_count": 15,
   "id": "7ef10169-5559-497b-a477-930cee7ba414",
   "metadata": {},
   "outputs": [],
   "source": [
    "import seaborn as sns"
   ]
  },
  {
   "cell_type": "code",
   "execution_count": 3,
   "id": "81a9359d-16e0-471f-ab69-d06914aceb44",
   "metadata": {},
   "outputs": [],
   "source": [
    "data = [36,54,34,65,45]"
   ]
  },
  {
   "cell_type": "code",
   "execution_count": 4,
   "id": "ab913362-e719-47db-a21e-2fc39e050a87",
   "metadata": {},
   "outputs": [],
   "source": [
    "data2 = [23,64,76,87,34]"
   ]
  },
  {
   "cell_type": "code",
   "execution_count": 5,
   "id": "f43eafd9-5d6c-429f-8e42-cfec0658f947",
   "metadata": {},
   "outputs": [
    {
     "data": {
      "text/plain": [
       "46.8"
      ]
     },
     "execution_count": 5,
     "metadata": {},
     "output_type": "execute_result"
    }
   ],
   "source": [
    "st.mean(data)"
   ]
  },
  {
   "cell_type": "code",
   "execution_count": 6,
   "id": "2c0076bd-59ac-47dd-a7a9-882943b595e2",
   "metadata": {},
   "outputs": [
    {
     "data": {
      "text/plain": [
       "56.8"
      ]
     },
     "execution_count": 6,
     "metadata": {},
     "output_type": "execute_result"
    }
   ],
   "source": [
    "st.mean(data2)"
   ]
  },
  {
   "cell_type": "markdown",
   "id": "d00b987f-db99-407c-b566-35f16e6a70b1",
   "metadata": {},
   "source": [
    "## Absolute Measure of Disperson"
   ]
  },
  {
   "cell_type": "markdown",
   "id": "8e082033-215c-4960-a74a-bbde260d8627",
   "metadata": {},
   "source": [
    "### 1. Range"
   ]
  },
  {
   "cell_type": "code",
   "execution_count": 7,
   "id": "8c4f9f48-c203-4bfb-b2a7-a0615861144b",
   "metadata": {},
   "outputs": [
    {
     "data": {
      "text/plain": [
       "31"
      ]
     },
     "execution_count": 7,
     "metadata": {},
     "output_type": "execute_result"
    }
   ],
   "source": [
    "max(data) - min(data)"
   ]
  },
  {
   "cell_type": "code",
   "execution_count": 8,
   "id": "050bfb89-801a-4c93-be64-a6c626343da8",
   "metadata": {},
   "outputs": [
    {
     "data": {
      "text/plain": [
       "64"
      ]
     },
     "execution_count": 8,
     "metadata": {},
     "output_type": "execute_result"
    }
   ],
   "source": [
    "max(data2) - min(data2)"
   ]
  },
  {
   "cell_type": "markdown",
   "id": "4f8624ac-8f7b-4e7e-a696-0b6e332064a5",
   "metadata": {},
   "source": [
    "### 2. Variance"
   ]
  },
  {
   "cell_type": "code",
   "execution_count": 10,
   "id": "23a56753-b43d-41b1-b68c-a754822ef725",
   "metadata": {},
   "outputs": [
    {
     "data": {
      "text/plain": [
       "166.7"
      ]
     },
     "execution_count": 10,
     "metadata": {},
     "output_type": "execute_result"
    }
   ],
   "source": [
    "st.variance(data)"
   ]
  },
  {
   "cell_type": "code",
   "execution_count": 12,
   "id": "6e7f3a6f-878d-4314-aa88-b2ac515260da",
   "metadata": {},
   "outputs": [
    {
     "data": {
      "text/plain": [
       "748.7"
      ]
     },
     "execution_count": 12,
     "metadata": {},
     "output_type": "execute_result"
    }
   ],
   "source": [
    "st.variance(data2)\n"
   ]
  },
  {
   "cell_type": "markdown",
   "id": "557fdaed-501e-4573-a3be-486e4c8c1860",
   "metadata": {},
   "source": [
    "### 3. Standard Deviation"
   ]
  },
  {
   "cell_type": "code",
   "execution_count": 13,
   "id": "374df980-b71d-4064-b69b-86192df856a3",
   "metadata": {},
   "outputs": [
    {
     "data": {
      "text/plain": [
       "11.548160026601641"
      ]
     },
     "execution_count": 13,
     "metadata": {},
     "output_type": "execute_result"
    }
   ],
   "source": [
    "st.pstdev(data)"
   ]
  },
  {
   "cell_type": "code",
   "execution_count": 14,
   "id": "abfeef1e-af66-48e7-8a6d-c7d319829b65",
   "metadata": {},
   "outputs": [
    {
     "data": {
      "text/plain": [
       "24.473659309551564"
      ]
     },
     "execution_count": 14,
     "metadata": {},
     "output_type": "execute_result"
    }
   ],
   "source": [
    "st.pstdev(data2)"
   ]
  },
  {
   "cell_type": "code",
   "execution_count": 16,
   "id": "40b65ac3-41cc-4fe5-9c67-99167d6b9e96",
   "metadata": {},
   "outputs": [],
   "source": [
    "df = sns.load_dataset(\"mpg\")"
   ]
  },
  {
   "cell_type": "code",
   "execution_count": 17,
   "id": "d52f4d52-f658-46e3-937a-504f9b86b4c5",
   "metadata": {},
   "outputs": [
    {
     "data": {
      "text/html": [
       "<div>\n",
       "<style scoped>\n",
       "    .dataframe tbody tr th:only-of-type {\n",
       "        vertical-align: middle;\n",
       "    }\n",
       "\n",
       "    .dataframe tbody tr th {\n",
       "        vertical-align: top;\n",
       "    }\n",
       "\n",
       "    .dataframe thead th {\n",
       "        text-align: right;\n",
       "    }\n",
       "</style>\n",
       "<table border=\"1\" class=\"dataframe\">\n",
       "  <thead>\n",
       "    <tr style=\"text-align: right;\">\n",
       "      <th></th>\n",
       "      <th>mpg</th>\n",
       "      <th>cylinders</th>\n",
       "      <th>displacement</th>\n",
       "      <th>horsepower</th>\n",
       "      <th>weight</th>\n",
       "      <th>acceleration</th>\n",
       "      <th>model_year</th>\n",
       "      <th>origin</th>\n",
       "      <th>name</th>\n",
       "    </tr>\n",
       "  </thead>\n",
       "  <tbody>\n",
       "    <tr>\n",
       "      <th>0</th>\n",
       "      <td>18.0</td>\n",
       "      <td>8</td>\n",
       "      <td>307.0</td>\n",
       "      <td>130.0</td>\n",
       "      <td>3504</td>\n",
       "      <td>12.0</td>\n",
       "      <td>70</td>\n",
       "      <td>usa</td>\n",
       "      <td>chevrolet chevelle malibu</td>\n",
       "    </tr>\n",
       "    <tr>\n",
       "      <th>1</th>\n",
       "      <td>15.0</td>\n",
       "      <td>8</td>\n",
       "      <td>350.0</td>\n",
       "      <td>165.0</td>\n",
       "      <td>3693</td>\n",
       "      <td>11.5</td>\n",
       "      <td>70</td>\n",
       "      <td>usa</td>\n",
       "      <td>buick skylark 320</td>\n",
       "    </tr>\n",
       "  </tbody>\n",
       "</table>\n",
       "</div>"
      ],
      "text/plain": [
       "    mpg  cylinders  displacement  horsepower  weight  acceleration  \\\n",
       "0  18.0          8         307.0       130.0    3504          12.0   \n",
       "1  15.0          8         350.0       165.0    3693          11.5   \n",
       "\n",
       "   model_year origin                       name  \n",
       "0          70    usa  chevrolet chevelle malibu  \n",
       "1          70    usa          buick skylark 320  "
      ]
     },
     "execution_count": 17,
     "metadata": {},
     "output_type": "execute_result"
    }
   ],
   "source": [
    "df.head(2)"
   ]
  },
  {
   "cell_type": "code",
   "execution_count": 18,
   "id": "18764241-2c01-4be4-8883-f37d7c127e00",
   "metadata": {},
   "outputs": [
    {
     "data": {
      "text/plain": [
       "37.6"
      ]
     },
     "execution_count": 18,
     "metadata": {},
     "output_type": "execute_result"
    }
   ],
   "source": [
    "df[\"mpg\"].max() - df[\"mpg\"].min()"
   ]
  },
  {
   "cell_type": "code",
   "execution_count": 20,
   "id": "b38b9d27-f97f-4158-8754-6fac9ace2f8f",
   "metadata": {},
   "outputs": [
    {
     "data": {
      "text/plain": [
       "61.0896107742744"
      ]
     },
     "execution_count": 20,
     "metadata": {},
     "output_type": "execute_result"
    }
   ],
   "source": [
    "st.variance(df[\"mpg\"])"
   ]
  },
  {
   "cell_type": "code",
   "execution_count": 21,
   "id": "e41a506d-b1f1-4854-90a3-24f847af8225",
   "metadata": {},
   "outputs": [
    {
     "data": {
      "text/plain": [
       "7.806159061274432"
      ]
     },
     "execution_count": 21,
     "metadata": {},
     "output_type": "execute_result"
    }
   ],
   "source": [
    "st.pstdev(df[\"mpg\"])"
   ]
  },
  {
   "cell_type": "code",
   "execution_count": 22,
   "id": "f969e792-3ee4-46fb-b6ba-ce1c18f43c01",
   "metadata": {},
   "outputs": [
    {
     "data": {
      "text/plain": [
       "5140"
      ]
     },
     "execution_count": 22,
     "metadata": {},
     "output_type": "execute_result"
    }
   ],
   "source": [
    "df[\"weight\"].max()"
   ]
  },
  {
   "cell_type": "code",
   "execution_count": 23,
   "id": "8130a346-5f34-4f89-9e03-ef9b823a6951",
   "metadata": {},
   "outputs": [
    {
     "data": {
      "text/plain": [
       "23.514572864321607"
      ]
     },
     "execution_count": 23,
     "metadata": {},
     "output_type": "execute_result"
    }
   ],
   "source": [
    "st.mean(df['mpg'])"
   ]
  },
  {
   "cell_type": "code",
   "execution_count": 24,
   "id": "c0107037-bd6f-42be-a00e-55a5a6832023",
   "metadata": {},
   "outputs": [
    {
     "data": {
      "text/plain": [
       "23.0"
      ]
     },
     "execution_count": 24,
     "metadata": {},
     "output_type": "execute_result"
    }
   ],
   "source": [
    "st.median(df['mpg'])"
   ]
  },
  {
   "cell_type": "code",
   "execution_count": 25,
   "id": "3b1fdcc1-ee63-44f3-bb29-002d1ff02a2c",
   "metadata": {},
   "outputs": [
    {
     "data": {
      "text/plain": [
       "13.0"
      ]
     },
     "execution_count": 25,
     "metadata": {},
     "output_type": "execute_result"
    }
   ],
   "source": [
    "st.mode(df['mpg'])"
   ]
  },
  {
   "cell_type": "code",
   "execution_count": 26,
   "id": "f45712d8-90d9-49e5-9339-fb02a3193bfe",
   "metadata": {},
   "outputs": [
    {
     "data": {
      "text/plain": [
       "<bound method NDFrame.describe of       mpg  cylinders  displacement  horsepower  weight  acceleration  \\\n",
       "0    18.0          8         307.0       130.0    3504          12.0   \n",
       "1    15.0          8         350.0       165.0    3693          11.5   \n",
       "2    18.0          8         318.0       150.0    3436          11.0   \n",
       "3    16.0          8         304.0       150.0    3433          12.0   \n",
       "4    17.0          8         302.0       140.0    3449          10.5   \n",
       "..    ...        ...           ...         ...     ...           ...   \n",
       "393  27.0          4         140.0        86.0    2790          15.6   \n",
       "394  44.0          4          97.0        52.0    2130          24.6   \n",
       "395  32.0          4         135.0        84.0    2295          11.6   \n",
       "396  28.0          4         120.0        79.0    2625          18.6   \n",
       "397  31.0          4         119.0        82.0    2720          19.4   \n",
       "\n",
       "     model_year  origin                       name  \n",
       "0            70     usa  chevrolet chevelle malibu  \n",
       "1            70     usa          buick skylark 320  \n",
       "2            70     usa         plymouth satellite  \n",
       "3            70     usa              amc rebel sst  \n",
       "4            70     usa                ford torino  \n",
       "..          ...     ...                        ...  \n",
       "393          82     usa            ford mustang gl  \n",
       "394          82  europe                  vw pickup  \n",
       "395          82     usa              dodge rampage  \n",
       "396          82     usa                ford ranger  \n",
       "397          82     usa                 chevy s-10  \n",
       "\n",
       "[398 rows x 9 columns]>"
      ]
     },
     "execution_count": 26,
     "metadata": {},
     "output_type": "execute_result"
    }
   ],
   "source": [
    "df.describe"
   ]
  },
  {
   "cell_type": "markdown",
   "id": "124b1538-516d-4d09-a5ed-b45459f17b6f",
   "metadata": {},
   "source": [
    "# Measure of Ralative Dispersion"
   ]
  },
  {
   "cell_type": "code",
   "execution_count": 34,
   "id": "1306da24-12ac-46d1-b1e0-90c979fe85ab",
   "metadata": {},
   "outputs": [],
   "source": [
    "data1 = [21,22,23,24,25]\n",
    "data2 = [23,72,115,56,17]"
   ]
  },
  {
   "cell_type": "code",
   "execution_count": 35,
   "id": "f431024a-cbad-4e5b-8502-da43763b7907",
   "metadata": {},
   "outputs": [],
   "source": [
    "cov1 = st.pstdev(data1)/st.mean(data1)"
   ]
  },
  {
   "cell_type": "code",
   "execution_count": 36,
   "id": "d27ef322-e74b-4bb5-a561-fc2f9e4c8d75",
   "metadata": {},
   "outputs": [],
   "source": [
    "cov2 = st.pstdev(data2)/st.mean(data2)"
   ]
  },
  {
   "cell_type": "code",
   "execution_count": 37,
   "id": "2f342942-3f5d-4db3-a63b-abe3ed25d6ae",
   "metadata": {},
   "outputs": [
    {
     "data": {
      "text/plain": [
       "6.148754619013457"
      ]
     },
     "execution_count": 37,
     "metadata": {},
     "output_type": "execute_result"
    }
   ],
   "source": [
    "cov1*100"
   ]
  },
  {
   "cell_type": "code",
   "execution_count": 38,
   "id": "9773fe59-4d2f-4c64-8fcc-81ba7a1c83a2",
   "metadata": {},
   "outputs": [
    {
     "data": {
      "text/plain": [
       "62.93920086802763"
      ]
     },
     "execution_count": 38,
     "metadata": {},
     "output_type": "execute_result"
    }
   ],
   "source": [
    "cov2*100"
   ]
  },
  {
   "cell_type": "code",
   "execution_count": 40,
   "id": "82a6e5ed-cd0f-43cd-a6ba-edca3b1ea2cf",
   "metadata": {},
   "outputs": [
    {
     "data": {
      "text/plain": [
       "33.19711187745463"
      ]
     },
     "execution_count": 40,
     "metadata": {},
     "output_type": "execute_result"
    }
   ],
   "source": [
    "st.pstdev(df[\"mpg\"])/st.mean(df[\"mpg\"])*100"
   ]
  },
  {
   "cell_type": "code",
   "execution_count": null,
   "id": "8a8f93be-9152-4f90-be3c-fddd27f19f7b",
   "metadata": {},
   "outputs": [],
   "source": []
  }
 ],
 "metadata": {
  "kernelspec": {
   "display_name": "Python 3 (ipykernel)",
   "language": "python",
   "name": "python3"
  },
  "language_info": {
   "codemirror_mode": {
    "name": "ipython",
    "version": 3
   },
   "file_extension": ".py",
   "mimetype": "text/x-python",
   "name": "python",
   "nbconvert_exporter": "python",
   "pygments_lexer": "ipython3",
   "version": "3.11.7"
  }
 },
 "nbformat": 4,
 "nbformat_minor": 5
}
