{
 "cells": [
  {
   "cell_type": "code",
   "execution_count": 3,
   "id": "df803ee5-ebdf-4038-baed-e98508391fe4",
   "metadata": {},
   "outputs": [],
   "source": [
    "import os\n",
    "import pandas as pd\n",
    "import plotly.express as px\n",
    "import plotly.offline as pyo\n",
    "df = pd.read_csv('gdp.csv')"
   ]
  },
  {
   "cell_type": "markdown",
   "id": "6d9c7d55-5404-43cf-a0a9-f6e273baab34",
   "metadata": {},
   "source": [
    "## GDP of all countries"
   ]
  },
  {
   "cell_type": "code",
   "execution_count": 9,
   "id": "810a2488-92fe-4814-9699-a1b214164536",
   "metadata": {},
   "outputs": [
    {
     "data": {
      "text/plain": [
       "'Countries.html'"
      ]
     },
     "execution_count": 9,
     "metadata": {},
     "output_type": "execute_result"
    }
   ],
   "source": [
    "fig = px.line(df, x = 'Year',y = 'Value',title='GDP analysis of Countries',color = 'Country Name')\n",
    "pyo.plot(fig ,filename = 'Countries.html',auto_open=False)"
   ]
  },
  {
   "cell_type": "markdown",
   "id": "75943b23-b736-4fec-8374-b8bf113d1423",
   "metadata": {},
   "source": [
    "## GDP comparison of India and China"
   ]
  },
  {
   "cell_type": "code",
   "execution_count": 15,
   "id": "73fef53f-f100-4209-a28a-49bbe18e2fbd",
   "metadata": {},
   "outputs": [],
   "source": [
    "c1 = df[df['Country Name']=='India']\n",
    "c2 = df[df['Country Name']=='China']"
   ]
  },
  {
   "cell_type": "code",
   "execution_count": 17,
   "id": "e9f00994-495b-45cb-87be-a700bb5ade37",
   "metadata": {},
   "outputs": [],
   "source": [
    "df_pr = pd.concat([c1,c2],axis=0)"
   ]
  },
  {
   "cell_type": "code",
   "execution_count": 18,
   "id": "1cdebd0d-c147-4ebb-98ff-3504c1739f18",
   "metadata": {},
   "outputs": [
    {
     "data": {
      "text/html": [
       "<div>\n",
       "<style scoped>\n",
       "    .dataframe tbody tr th:only-of-type {\n",
       "        vertical-align: middle;\n",
       "    }\n",
       "\n",
       "    .dataframe tbody tr th {\n",
       "        vertical-align: top;\n",
       "    }\n",
       "\n",
       "    .dataframe thead th {\n",
       "        text-align: right;\n",
       "    }\n",
       "</style>\n",
       "<table border=\"1\" class=\"dataframe\">\n",
       "  <thead>\n",
       "    <tr style=\"text-align: right;\">\n",
       "      <th></th>\n",
       "      <th>Country Name</th>\n",
       "      <th>Country Code</th>\n",
       "      <th>Year</th>\n",
       "      <th>Value</th>\n",
       "    </tr>\n",
       "  </thead>\n",
       "  <tbody>\n",
       "    <tr>\n",
       "      <th>6074</th>\n",
       "      <td>India</td>\n",
       "      <td>IND</td>\n",
       "      <td>1960</td>\n",
       "      <td>3.653593e+10</td>\n",
       "    </tr>\n",
       "    <tr>\n",
       "      <th>6075</th>\n",
       "      <td>India</td>\n",
       "      <td>IND</td>\n",
       "      <td>1961</td>\n",
       "      <td>3.870910e+10</td>\n",
       "    </tr>\n",
       "    <tr>\n",
       "      <th>6076</th>\n",
       "      <td>India</td>\n",
       "      <td>IND</td>\n",
       "      <td>1962</td>\n",
       "      <td>4.159907e+10</td>\n",
       "    </tr>\n",
       "    <tr>\n",
       "      <th>6077</th>\n",
       "      <td>India</td>\n",
       "      <td>IND</td>\n",
       "      <td>1963</td>\n",
       "      <td>4.777600e+10</td>\n",
       "    </tr>\n",
       "    <tr>\n",
       "      <th>6078</th>\n",
       "      <td>India</td>\n",
       "      <td>IND</td>\n",
       "      <td>1964</td>\n",
       "      <td>5.572687e+10</td>\n",
       "    </tr>\n",
       "    <tr>\n",
       "      <th>...</th>\n",
       "      <td>...</td>\n",
       "      <td>...</td>\n",
       "      <td>...</td>\n",
       "      <td>...</td>\n",
       "    </tr>\n",
       "    <tr>\n",
       "      <th>4098</th>\n",
       "      <td>China</td>\n",
       "      <td>CHN</td>\n",
       "      <td>2012</td>\n",
       "      <td>8.560547e+12</td>\n",
       "    </tr>\n",
       "    <tr>\n",
       "      <th>4099</th>\n",
       "      <td>China</td>\n",
       "      <td>CHN</td>\n",
       "      <td>2013</td>\n",
       "      <td>9.607224e+12</td>\n",
       "    </tr>\n",
       "    <tr>\n",
       "      <th>4100</th>\n",
       "      <td>China</td>\n",
       "      <td>CHN</td>\n",
       "      <td>2014</td>\n",
       "      <td>1.048237e+13</td>\n",
       "    </tr>\n",
       "    <tr>\n",
       "      <th>4101</th>\n",
       "      <td>China</td>\n",
       "      <td>CHN</td>\n",
       "      <td>2015</td>\n",
       "      <td>1.106467e+13</td>\n",
       "    </tr>\n",
       "    <tr>\n",
       "      <th>4102</th>\n",
       "      <td>China</td>\n",
       "      <td>CHN</td>\n",
       "      <td>2016</td>\n",
       "      <td>1.119915e+13</td>\n",
       "    </tr>\n",
       "  </tbody>\n",
       "</table>\n",
       "<p>114 rows × 4 columns</p>\n",
       "</div>"
      ],
      "text/plain": [
       "     Country Name Country Code  Year         Value\n",
       "6074        India          IND  1960  3.653593e+10\n",
       "6075        India          IND  1961  3.870910e+10\n",
       "6076        India          IND  1962  4.159907e+10\n",
       "6077        India          IND  1963  4.777600e+10\n",
       "6078        India          IND  1964  5.572687e+10\n",
       "...           ...          ...   ...           ...\n",
       "4098        China          CHN  2012  8.560547e+12\n",
       "4099        China          CHN  2013  9.607224e+12\n",
       "4100        China          CHN  2014  1.048237e+13\n",
       "4101        China          CHN  2015  1.106467e+13\n",
       "4102        China          CHN  2016  1.119915e+13\n",
       "\n",
       "[114 rows x 4 columns]"
      ]
     },
     "execution_count": 18,
     "metadata": {},
     "output_type": "execute_result"
    }
   ],
   "source": [
    "df_pr"
   ]
  },
  {
   "cell_type": "code",
   "execution_count": 19,
   "id": "dc511c0d-f24a-445b-81dd-1714aa07c5be",
   "metadata": {},
   "outputs": [
    {
     "data": {
      "text/plain": [
       "'IndiaVchina.html'"
      ]
     },
     "execution_count": 19,
     "metadata": {},
     "output_type": "execute_result"
    }
   ],
   "source": [
    "fig = px.line(df_pr, x = 'Year',y = 'Value',title='GDP analysis of India|China',color = 'Country Name')\n",
    "pyo.plot(fig ,filename = 'IndiaVchina.html',auto_open=False)"
   ]
  },
  {
   "cell_type": "code",
   "execution_count": 20,
   "id": "bcaa2891-3fd3-4e60-bdc8-98e4c72af542",
   "metadata": {},
   "outputs": [
    {
     "data": {
      "text/plain": [
       "'India & china.html'"
      ]
     },
     "execution_count": 20,
     "metadata": {},
     "output_type": "execute_result"
    }
   ],
   "source": [
    "c1 = df[df['Country Name']=='India']\n",
    "c2 = df[df['Country Name']=='China']\n",
    "\n",
    "df_pr = pd.concat([c1,c2],axis=0)\n",
    "\n",
    "fig = px.line(df_pr, x = 'Year',y = 'Value',title='GDP analysis of India & China',color = 'Country Name')\n",
    "pyo.plot(fig ,filename = 'India & china.html',auto_open=False)"
   ]
  },
  {
   "cell_type": "code",
   "execution_count": null,
   "id": "1d67488b-1fb8-45b3-9757-743df0be6d7f",
   "metadata": {},
   "outputs": [],
   "source": []
  }
 ],
 "metadata": {
  "kernelspec": {
   "display_name": "Python 3 (ipykernel)",
   "language": "python",
   "name": "python3"
  },
  "language_info": {
   "codemirror_mode": {
    "name": "ipython",
    "version": 3
   },
   "file_extension": ".py",
   "mimetype": "text/x-python",
   "name": "python",
   "nbconvert_exporter": "python",
   "pygments_lexer": "ipython3",
   "version": "3.11.7"
  }
 },
 "nbformat": 4,
 "nbformat_minor": 5
}
