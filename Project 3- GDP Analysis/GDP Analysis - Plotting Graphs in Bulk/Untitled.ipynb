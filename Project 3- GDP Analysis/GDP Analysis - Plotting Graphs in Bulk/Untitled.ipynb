{
 "cells": [
  {
   "cell_type": "code",
   "execution_count": 25,
   "id": "bbfff855-d820-4f58-b761-9e946fe14c29",
   "metadata": {},
   "outputs": [],
   "source": [
    "import os\n",
    "import pandas as pd\n",
    "import plotly.express as px\n",
    "import plotly.offline as pyo"
   ]
  },
  {
   "cell_type": "code",
   "execution_count": 2,
   "id": "ec24d2cd-676b-4a12-a401-37464a99dd40",
   "metadata": {},
   "outputs": [],
   "source": [
    "df = pd.read_csv('gdp.csv')"
   ]
  },
  {
   "cell_type": "code",
   "execution_count": 3,
   "id": "ce18def7-13e3-4fec-8ac7-374f3c084fb7",
   "metadata": {},
   "outputs": [
    {
     "data": {
      "text/html": [
       "<div>\n",
       "<style scoped>\n",
       "    .dataframe tbody tr th:only-of-type {\n",
       "        vertical-align: middle;\n",
       "    }\n",
       "\n",
       "    .dataframe tbody tr th {\n",
       "        vertical-align: top;\n",
       "    }\n",
       "\n",
       "    .dataframe thead th {\n",
       "        text-align: right;\n",
       "    }\n",
       "</style>\n",
       "<table border=\"1\" class=\"dataframe\">\n",
       "  <thead>\n",
       "    <tr style=\"text-align: right;\">\n",
       "      <th></th>\n",
       "      <th>Country Name</th>\n",
       "      <th>Country Code</th>\n",
       "      <th>Year</th>\n",
       "      <th>Value</th>\n",
       "    </tr>\n",
       "  </thead>\n",
       "  <tbody>\n",
       "    <tr>\n",
       "      <th>0</th>\n",
       "      <td>Arab World</td>\n",
       "      <td>ARB</td>\n",
       "      <td>1968</td>\n",
       "      <td>2.576068e+10</td>\n",
       "    </tr>\n",
       "    <tr>\n",
       "      <th>1</th>\n",
       "      <td>Arab World</td>\n",
       "      <td>ARB</td>\n",
       "      <td>1969</td>\n",
       "      <td>2.843420e+10</td>\n",
       "    </tr>\n",
       "    <tr>\n",
       "      <th>2</th>\n",
       "      <td>Arab World</td>\n",
       "      <td>ARB</td>\n",
       "      <td>1970</td>\n",
       "      <td>3.138550e+10</td>\n",
       "    </tr>\n",
       "    <tr>\n",
       "      <th>3</th>\n",
       "      <td>Arab World</td>\n",
       "      <td>ARB</td>\n",
       "      <td>1971</td>\n",
       "      <td>3.642691e+10</td>\n",
       "    </tr>\n",
       "    <tr>\n",
       "      <th>4</th>\n",
       "      <td>Arab World</td>\n",
       "      <td>ARB</td>\n",
       "      <td>1972</td>\n",
       "      <td>4.331606e+10</td>\n",
       "    </tr>\n",
       "    <tr>\n",
       "      <th>...</th>\n",
       "      <td>...</td>\n",
       "      <td>...</td>\n",
       "      <td>...</td>\n",
       "      <td>...</td>\n",
       "    </tr>\n",
       "    <tr>\n",
       "      <th>11502</th>\n",
       "      <td>Zimbabwe</td>\n",
       "      <td>ZWE</td>\n",
       "      <td>2012</td>\n",
       "      <td>1.424249e+10</td>\n",
       "    </tr>\n",
       "    <tr>\n",
       "      <th>11503</th>\n",
       "      <td>Zimbabwe</td>\n",
       "      <td>ZWE</td>\n",
       "      <td>2013</td>\n",
       "      <td>1.545177e+10</td>\n",
       "    </tr>\n",
       "    <tr>\n",
       "      <th>11504</th>\n",
       "      <td>Zimbabwe</td>\n",
       "      <td>ZWE</td>\n",
       "      <td>2014</td>\n",
       "      <td>1.589105e+10</td>\n",
       "    </tr>\n",
       "    <tr>\n",
       "      <th>11505</th>\n",
       "      <td>Zimbabwe</td>\n",
       "      <td>ZWE</td>\n",
       "      <td>2015</td>\n",
       "      <td>1.630467e+10</td>\n",
       "    </tr>\n",
       "    <tr>\n",
       "      <th>11506</th>\n",
       "      <td>Zimbabwe</td>\n",
       "      <td>ZWE</td>\n",
       "      <td>2016</td>\n",
       "      <td>1.661996e+10</td>\n",
       "    </tr>\n",
       "  </tbody>\n",
       "</table>\n",
       "<p>11507 rows × 4 columns</p>\n",
       "</div>"
      ],
      "text/plain": [
       "      Country Name Country Code  Year         Value\n",
       "0       Arab World          ARB  1968  2.576068e+10\n",
       "1       Arab World          ARB  1969  2.843420e+10\n",
       "2       Arab World          ARB  1970  3.138550e+10\n",
       "3       Arab World          ARB  1971  3.642691e+10\n",
       "4       Arab World          ARB  1972  4.331606e+10\n",
       "...            ...          ...   ...           ...\n",
       "11502     Zimbabwe          ZWE  2012  1.424249e+10\n",
       "11503     Zimbabwe          ZWE  2013  1.545177e+10\n",
       "11504     Zimbabwe          ZWE  2014  1.589105e+10\n",
       "11505     Zimbabwe          ZWE  2015  1.630467e+10\n",
       "11506     Zimbabwe          ZWE  2016  1.661996e+10\n",
       "\n",
       "[11507 rows x 4 columns]"
      ]
     },
     "execution_count": 3,
     "metadata": {},
     "output_type": "execute_result"
    }
   ],
   "source": [
    "df"
   ]
  },
  {
   "cell_type": "code",
   "execution_count": 5,
   "id": "2b780051-e68d-4fd4-8f63-8ec53c6d003b",
   "metadata": {},
   "outputs": [],
   "source": [
    "df_pr = df[df['Country Name']=='India']"
   ]
  },
  {
   "cell_type": "code",
   "execution_count": 12,
   "id": "d184b55a-dbdb-458f-8143-f3b65b28f2df",
   "metadata": {},
   "outputs": [],
   "source": [
    "fig = px.line(df_pr, x='Year',y='Value',title='India GDP analysis')"
   ]
  },
  {
   "cell_type": "code",
   "execution_count": 15,
   "id": "2a136932-fbed-4ff8-8f8e-9762c751f979",
   "metadata": {},
   "outputs": [
    {
     "data": {
      "text/plain": [
       "'India.html'"
      ]
     },
     "execution_count": 15,
     "metadata": {},
     "output_type": "execute_result"
    }
   ],
   "source": [
    "pyo.plot(fig,filename='India.html',auto_open=False)"
   ]
  },
  {
   "cell_type": "markdown",
   "id": "d29ca42f-cff0-415e-9d4b-9f29688146a9",
   "metadata": {},
   "source": [
    "## GDP of Each Country"
   ]
  },
  {
   "cell_type": "code",
   "execution_count": 26,
   "id": "a36b551c-5d8e-4c24-9732-8387a1628e07",
   "metadata": {},
   "outputs": [],
   "source": [
    "os.mkdir('GDP Indivisual')\n",
    "for country_name in df['Country Name'].unique():\n",
    "     \n",
    "    df_pr = df[df['Country Name'] == country_name]\n",
    "     \n",
    "    fig = px.line(df_pr, x = 'Year',y = 'Value',title=country_name + 'GDP analysis')\n",
    "    pyo.plot(fig ,filename = 'GDP Indivisual/'+country_name+'.html',auto_open=False)"
   ]
  },
  {
   "cell_type": "markdown",
   "id": "0ff4760e-633a-4deb-92f0-4c1266dd6158",
   "metadata": {},
   "source": [
    "## GDP of Each Country WRT 80T"
   ]
  },
  {
   "cell_type": "code",
   "execution_count": 27,
   "id": "9087356f-3135-4a8d-9c4e-174da042583a",
   "metadata": {},
   "outputs": [],
   "source": [
    "os.mkdir('GDP Individual WRT World')\n",
    "for country_name in df['Country Name'].unique():\n",
    "     \n",
    "    df_pr = df[df['Country Name'] == country_name]\n",
    "     \n",
    "    fig = px.line(df_pr, x = 'Year',y = 'Value',title=country_name + 'GDP analysis',range_y = [0,80000000000000])\n",
    "    pyo.plot(fig ,filename = 'GDP Individual WRT World/'+country_name+'.html',auto_open=False)"
   ]
  },
  {
   "cell_type": "code",
   "execution_count": null,
   "id": "50dc6d9e-29bd-4227-aed7-923fa19e2d58",
   "metadata": {},
   "outputs": [],
   "source": []
  }
 ],
 "metadata": {
  "kernelspec": {
   "display_name": "Python 3 (ipykernel)",
   "language": "python",
   "name": "python3"
  },
  "language_info": {
   "codemirror_mode": {
    "name": "ipython",
    "version": 3
   },
   "file_extension": ".py",
   "mimetype": "text/x-python",
   "name": "python",
   "nbconvert_exporter": "python",
   "pygments_lexer": "ipython3",
   "version": "3.11.7"
  }
 },
 "nbformat": 4,
 "nbformat_minor": 5
}
