{
 "cells": [
  {
   "cell_type": "code",
   "execution_count": 1,
   "id": "fc04a54c-5a39-4d23-9870-15d1db1fa1dd",
   "metadata": {},
   "outputs": [],
   "source": [
    "import os\n",
    "import pandas as pd\n",
    "import plotly.express as px\n",
    "import plotly.offline as pyo\n",
    "\n",
    "df = pd.read_csv('gdp.csv')"
   ]
  },
  {
   "cell_type": "code",
   "execution_count": 2,
   "id": "1df11a70-4de5-4c69-927f-4e288ba1ca77",
   "metadata": {},
   "outputs": [],
   "source": [
    "lst = ['IND','ITA', 'USA', 'CHN']\n",
    "\n",
    "dfs = []\n",
    "for i in lst:\n",
    "    dfs.append(df[df['Country Code'] == i])\n",
    "    \n",
    "    df_pr = pd.concat(dfs, axis = 0)"
   ]
  },
  {
   "cell_type": "code",
   "execution_count": 9,
   "id": "ecea7f34-b94a-41a4-aa9d-e45dfddfd053",
   "metadata": {},
   "outputs": [
    {
     "data": {
      "text/plain": [
       "'INDGDPITAGDPUSAGDPCHN.html'"
      ]
     },
     "execution_count": 9,
     "metadata": {},
     "output_type": "execute_result"
    }
   ],
   "source": [
    "fig = px.line(df_pr, x = 'Year', y = 'Value', title = 'GDP Comparison - ' + '|'.join(lst), color = 'Country Name')\n",
    "\n",
    "pyo.plot(fig, filename = 'GDP'.join(lst) + '.html')"
   ]
  },
  {
   "cell_type": "code",
   "execution_count": 12,
   "id": "19202b1a-aa20-422b-a594-489a5b03238b",
   "metadata": {},
   "outputs": [],
   "source": [
    "def comare_gdp(lst, isOpen):\n",
    "    \n",
    "    dfs = []\n",
    "    for i in lst:\n",
    "        dfs.append(df[df['Country Code'] == i])\n",
    "\n",
    "        df_pr = pd.concat(dfs, axis = 0)\n",
    "        \n",
    "    fig = px.line(df_pr, x = 'Year', y = 'Value', title = 'GDP Comparison - ' + '|'.join(lst), \n",
    "                  color = 'Country Name')\n",
    "    pyo.plot(fig, filename = '-'.join(lst) + '.html', auto_open = isOpen)"
   ]
  },
  {
   "cell_type": "code",
   "execution_count": 13,
   "id": "17ef587a-ca25-471a-9a11-a683c18c23fa",
   "metadata": {},
   "outputs": [],
   "source": [
    "comare_gdp(['IND','USA'], False)"
   ]
  },
  {
   "cell_type": "code",
   "execution_count": null,
   "id": "fe31d104-1bdf-4c95-8e35-4f3b8cd15519",
   "metadata": {},
   "outputs": [],
   "source": []
  }
 ],
 "metadata": {
  "kernelspec": {
   "display_name": "Python 3 (ipykernel)",
   "language": "python",
   "name": "python3"
  },
  "language_info": {
   "codemirror_mode": {
    "name": "ipython",
    "version": 3
   },
   "file_extension": ".py",
   "mimetype": "text/x-python",
   "name": "python",
   "nbconvert_exporter": "python",
   "pygments_lexer": "ipython3",
   "version": "3.11.7"
  }
 },
 "nbformat": 4,
 "nbformat_minor": 5
}
